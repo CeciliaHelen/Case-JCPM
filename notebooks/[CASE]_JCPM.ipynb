{
  "cells": [
    {
      "cell_type": "markdown",
      "metadata": {
        "id": "ZkJH4k614rBu"
      },
      "source": [
        "## Case JCPM - Cientista de Dados Jr"
      ]
    },
    {
      "cell_type": "markdown",
      "metadata": {
        "id": "6ofOeh-e4rBy"
      },
      "source": [
        "O uso estratégico e inteligente de conteúdo premium restrito (conhecido como paywalls), é uma consideração importante para empresas de comunicação, como jornais e revistas. Essa situação pode ser bem desafiadora, pois a adequada segmentação do conteúdo, definição de preços adequados e equilíbrio entre acesso gratuito e premium são aspectos complexos de serem equilibrados e que demandam uma abordagem cuidadosa.\n",
        "\n",
        "Segundo dados da Associação Nacional de Jornais (ANJ), o uso de paywalls tem apresentado um crescimento significativo nos últimos anos. Estatísticas mostram que cerca de 70% dos principais jornais online adotaram alguma forma de paywall em suas plataformas, destacando a relevância dessa estratégia na monetização de conteúdo digital."
      ]
    },
    {
      "cell_type": "markdown",
      "metadata": {
        "id": "bkEPlLs24rB1"
      },
      "source": [
        "<center>\n",
        "<img src = \"../reports/figures/2420657.jpg\" width = \"30%\">\n",
        "<a <a href=\"https://www.freepik.com/free-vector/news-concept-landing-page_4661087.htm#query=jornal%20digital&position=34&from_view=search&track=ais&uuid=4d046285-ec37-4ee0-9c00-0c45427c96a3\">Image by pikisuperstar</a> on Freepik\n",
        "</center>"
      ]
    },
    {
      "cell_type": "markdown",
      "metadata": {
        "id": "RLFcvp9r4rB3"
      },
      "source": [
        "Estes dados destacam a importância de uma análise estratégica na implementação de paywalls, com o objetivo de maximizar receitas e garantir a qualidade de conteúdo e a satisfação dos usuários."
      ]
    },
    {
      "cell_type": "markdown",
      "metadata": {
        "id": "40K9CUMD4rB5"
      },
      "source": [
        "### Business Understanding"
      ]
    },
    {
      "cell_type": "markdown",
      "metadata": {
        "id": "fdwQjnJ14rB7"
      },
      "source": [
        "No contexto atual de crescente disseminação de informação gratuita, entender como atrair leitores fiéis e dispostos a pagar por conteúdos de qualidade é crucial para estratégias de marketing eficazes das empresas.\n",
        "\n",
        "Pensando nisso, é importante entender que a JCPM possui um grande destaque no setor de comunicação, como os de rádio e jornal. No que diz respeito a essa área, a empresa desempenha um papel importante na disseminação de informações e no engajamento da audiência por meio do seu site: jc.ne10.uol.com.br.\n",
        "\n",
        "Nesse contexto, é fundamental analisar como a implementação do paywall afeta a monetização da empresa, a partir dos registros de acessos dos usuários que foram impactados pelo paywal enquanto estavam logados no site.\n",
        "\n",
        "**Tipos de Análise Realizados:**\n",
        "- Bloqueios de Conteúdo\n",
        "- Coversão de Assinaturas\n",
        "- Comportamento do Usuário\n",
        "\n",
        "**Principais Indicadores Chave de Desempenho:**\n",
        "- Taxa de Conversão\n",
        "- Número de Bloqueios de Conteúdo\n",
        "- Perfil Demográfico dos Usuários"
      ]
    },
    {
      "cell_type": "markdown",
      "metadata": {
        "id": "VrPuMYVW4rB8"
      },
      "source": [
        "#### Importando os pacotes necessários"
      ]
    },
    {
      "cell_type": "code",
      "execution_count": null,
      "metadata": {
        "id": "JclYJkyl4rB8"
      },
      "outputs": [],
      "source": [
        "# Bibliotecas padrão\n",
        "import ast\n",
        "import numpy as np\n",
        "import pandas as pd\n",
        "import seaborn as sns\n",
        "import matplotlib.pyplot as plt"
      ]
    },
    {
      "cell_type": "code",
      "execution_count": null,
      "metadata": {
        "id": "QAagqgJq4rB-"
      },
      "outputs": [],
      "source": [
        "df1 = pd.read_csv('../data/raw/585696c7-537d-45bc-8b93-e6fecadd1e63.csv', sep=',')\n",
        "df2 = pd.read_csv('../data/raw/77548291-5a08-41b6-a0b8-819889a5dfc7.csv', sep=',')"
      ]
    },
    {
      "cell_type": "markdown",
      "metadata": {
        "id": "mETqqkbE4rCA"
      },
      "source": [
        "## **Análise dos Dados**\n",
        "\n",
        "Esta seção fornece uma visão detalhada da estrutura e do significado dos dados que estão sendo analisados.\n",
        "\n",
        "### **Dicionário de Variáveis - Arquivos Enviados**\n",
        "\n",
        "- **`device_id `**:\n",
        "  - **Descrição:** identificador do dispositivo do usuário\n",
        "  - **Finalidade:** [Insira Finalidade]\n",
        "\n",
        "- **`event_id `**:\n",
        "  - **Descrição:** identificador do evento (este id é único por evento)\n",
        "  - **Finalidade:** [Insira Finalidade]\n",
        "\n",
        "- **`address `**:\n",
        "  - **Descrição:** url onde ocorreu o evento\n",
        "  - **Finalidade:** [Insira Finalidade]\n",
        "\n",
        "- **`referer `**:\n",
        "  - **Descrição:** referenciador do acesso (em caso de nulo admite-se acesso direto)\n",
        "  - **Finalidade:** [Insira Finalidade]\n",
        "\n",
        "- **`tag `**:\n",
        "  - **Descrição:** tag de conteúdo\n",
        "  - **Finalidade:** serve para classificar sobre os assuntos abordados no conteúdo\n",
        "\n",
        "- **`metadata `**:\n",
        "  - **Descrição:** metadados do evento\n",
        "  - **Finalidade:** serve para informar o que ocorreu naquele evento (se o usuário foi barrado, se não foi, se realizou uma compra, etc)\n",
        "\n",
        "- **`visit_created_at `**:\n",
        "  - **Descrição:** Data/hora da criação do evento em UTC\n",
        "  - **Finalidade:** [Insira Finalidade]\n",
        "\n",
        "- **`fingerprint_components `**:\n",
        "  - **Descrição:** dados técnicos sobre o dispositivo que o usuário utilizou durante o evento\n",
        "  - **Finalidade:** [Insira Finalidade]\n",
        "\n",
        "- **`user_gender `**:\n",
        "  - **Descrição:** gênero do usuário (se existir)\n",
        "  - **Finalidade:** [Insira Finalidade]\n",
        "\n",
        "- **`user_age_range `**:\n",
        "  - **Descrição:** faixa etária do usuário (se existir)\n",
        "  - **Finalidade:** [Insira Finalidade]\n",
        "\n",
        "### **Dicionário de Variáveis - Metadata***\n",
        "\n",
        "- **`variável `**:\n",
        "  - **Descrição:**\n",
        "  - **Finalidade:**"
      ]
    },
    {
      "cell_type": "markdown",
      "metadata": {
        "id": "GQWjIEy64rCB"
      },
      "source": [
        "### Perguntas a serem respondidas:\n",
        "\n",
        "1. `Quantas assinaturas foram realizadas no período?`\n",
        "\n",
        "2. `Quantos bloqueios foram realizados?`\n",
        "\n",
        "3. `Qual o tipo de conteúdo que mais converteu assinaturas?`\n",
        "\n",
        "4. `Que tipo de conteúdo gerou mais bloqueios?`\n",
        "\n",
        "5. `Qual a taxa de conversão?`\n",
        "\n",
        "6. `Qual o perfil de quem leu? Existe uma diferença de perfil entre leitores normais e assinantes?`\n",
        "\n",
        "7. `Quantos bloqueios, em média, um usuário leva antes de realizar uma assinatura?`\n"
      ]
    },
    {
      "cell_type": "markdown",
      "metadata": {
        "id": "53g_3yZA4rCC"
      },
      "source": [
        "### Análise exploratória dos dados"
      ]
    },
    {
      "cell_type": "code",
      "execution_count": null,
      "metadata": {
        "colab": {
          "base_uri": "https://localhost:8080/",
          "height": 293
        },
        "id": "1dKlujbc4rCD",
        "outputId": "593e6038-b06a-446d-a7b0-3e305c77bec5"
      },
      "outputs": [],
      "source": [
        "# Ver as cinco primeiras entradas\n",
        "df1.head()"
      ]
    },
    {
      "cell_type": "code",
      "execution_count": null,
      "metadata": {
        "colab": {
          "base_uri": "https://localhost:8080/",
          "height": 380
        },
        "id": "IETpgaRV4rCE",
        "outputId": "4a1915b5-9def-45fe-a8ce-94bf36a63253"
      },
      "outputs": [],
      "source": [
        "# Ver as cinco primeiras entradas\n",
        "df2.head()"
      ]
    },
    {
      "cell_type": "markdown",
      "metadata": {
        "id": "LBvYGv824rCF"
      },
      "source": [
        "É possível notar que:\n",
        "\n",
        "- Há uma boa varição de idades que acessam o site\n",
        "- Existe uma metadata a ser tratada\n",
        "- A maioria dos usuários acessam o site pelo navegador. Poucos pelo mobile\n"
      ]
    },
    {
      "cell_type": "code",
      "execution_count": null,
      "metadata": {
        "colab": {
          "base_uri": "https://localhost:8080/"
        },
        "id": "QmDBVEHP4rCF",
        "outputId": "3825d987-9a20-4e71-8dc5-17745fc79da8"
      },
      "outputs": [],
      "source": [
        "# Visualizar o tamanho do dataframe\n",
        "print(\"Dataframe 1:\")\n",
        "print(f\"Entradas: {df1.shape[0]}\")\n",
        "print(f\"Colunas: {df1.shape[1]}\")\n",
        "\n",
        "print(\"\\nDataframe 2:\")\n",
        "print(f\"Entradas: {df2.shape[0]}\")\n",
        "print(f\"Colunas: {df2.shape[1]}\")"
      ]
    },
    {
      "cell_type": "code",
      "execution_count": null,
      "metadata": {
        "colab": {
          "base_uri": "https://localhost:8080/"
        },
        "id": "4S4_F4VY4rCG",
        "outputId": "a1096c80-404c-4dfa-d02c-40498793d3a9"
      },
      "outputs": [],
      "source": [
        "# Extrair nome das colunas\n",
        "print(\"Dataframe 1:\")\n",
        "print(f\"Colunas: {df1.columns}\")\n",
        "\n",
        "print(\"\\nDataframe 2:\")\n",
        "print(f\"Colunas: {df2.columns}\")"
      ]
    },
    {
      "cell_type": "markdown",
      "metadata": {
        "id": "NKLLn5804rCH"
      },
      "source": [
        "*Com base na verificação de colunas, é possível concluir que:*\n",
        "\n",
        "As colunas apresentam os mesmos índices e trazem informações variadas a respeito do conteúdo acessado, data de acesso, identificação do usuário, dentre outros."
      ]
    },
    {
      "cell_type": "code",
      "execution_count": null,
      "metadata": {
        "colab": {
          "base_uri": "https://localhost:8080/"
        },
        "id": "CO-4R4rr4rCI",
        "outputId": "fb87e22b-f6c6-44e0-b0b5-1166b536ec4a"
      },
      "outputs": [],
      "source": [
        "# Extrair o tipo das variáveis\n",
        "df1.dtypes\n",
        "#visit_created_at para data -> mudar para padrão dd/mm/yyyy"
      ]
    },
    {
      "cell_type": "code",
      "execution_count": null,
      "metadata": {
        "colab": {
          "base_uri": "https://localhost:8080/"
        },
        "id": "uML2BZiH4rCJ",
        "outputId": "2b66738b-9a2d-496c-b7d3-42517cb66764"
      },
      "outputs": [],
      "source": [
        "# Extrair o tipo das variáveis\n",
        "df2.dtypes"
      ]
    },
    {
      "cell_type": "markdown",
      "metadata": {
        "id": "uLsNEPx-4rCK"
      },
      "source": [
        "*Com base na verificação dos tipos das variáveis, é possível notar que:*\n",
        "\n",
        "A variável `visit_created_at` não está no formato de data. Como farei a visualização por data, é interessante alterar o tipo posteriormente. Para as outras variáveis, não devemos realizar modificações. Apesar dos id's estarem como inteiro, não iremos usá-los para fins de cálculo (Nem devemos! Por padrão, ele deve ser string)"
      ]
    },
    {
      "cell_type": "code",
      "execution_count": null,
      "metadata": {
        "colab": {
          "base_uri": "https://localhost:8080/"
        },
        "id": "BemYIvaN4rCK",
        "outputId": "d3e623db-7d24-4f19-ad89-b9063e63247e"
      },
      "outputs": [],
      "source": [
        "# Porcentagem de itens nulos\n",
        "(df1.isnull().sum()/df1.shape[0] * 100).round(2)"
      ]
    },
    {
      "cell_type": "code",
      "execution_count": null,
      "metadata": {
        "colab": {
          "base_uri": "https://localhost:8080/"
        },
        "id": "YOb5ygaT4rCM",
        "outputId": "8bc1fd6e-ff62-4dc2-fb47-456a6dacada6"
      },
      "outputs": [],
      "source": [
        "# Porcentagem de itens nulos\n",
        "(df2.isnull().sum()/df2.shape[0] * 100).round(2)"
      ]
    },
    {
      "cell_type": "markdown",
      "metadata": {
        "id": "x06HLyXy4rCN"
      },
      "source": [
        "*Com base na quantidade de nulos, é possível afirmar que:*\n",
        "\n",
        "Os nulos devem sem mantidos na base, pois são tabelas que iremos usar ao longo da análise. Devemos excluí-los apenas se existirem colunas com 100% de nulos ao juntar as bases."
      ]
    },
    {
      "cell_type": "code",
      "execution_count": null,
      "metadata": {
        "colab": {
          "base_uri": "https://localhost:8080/"
        },
        "id": "NlmcdcOF4rCO",
        "outputId": "006a7d4c-8351-4d56-b1e3-5bfff4ee9123"
      },
      "outputs": [],
      "source": [
        "# Verificando a existência de duplicados:\n",
        "df1.duplicated().sum()"
      ]
    },
    {
      "cell_type": "code",
      "execution_count": null,
      "metadata": {
        "colab": {
          "base_uri": "https://localhost:8080/"
        },
        "id": "QKeoTLJ84rCP",
        "outputId": "622ad898-46f9-4f61-9c45-2164cdda5317"
      },
      "outputs": [],
      "source": [
        "# Verificando a existência de duplicados:\n",
        "df2.duplicated().sum()"
      ]
    },
    {
      "cell_type": "code",
      "execution_count": null,
      "metadata": {
        "colab": {
          "base_uri": "https://localhost:8080/"
        },
        "id": "xTWBIvDI4rCP",
        "outputId": "a93f5ebc-5f69-4329-8dd4-a1910eb30c97"
      },
      "outputs": [],
      "source": [
        "# Comparação de colunas de ids\n",
        "df1.device_id.isin(df2.device_id).value_counts()"
      ]
    },
    {
      "cell_type": "code",
      "execution_count": null,
      "metadata": {
        "colab": {
          "base_uri": "https://localhost:8080/"
        },
        "id": "SVi9Bsif4rCQ",
        "outputId": "99ca3fea-14c0-4cef-9583-5a7ffd7eea23"
      },
      "outputs": [],
      "source": [
        "# Comparação de colunas de ids\n",
        "df1.event_id.isin(df2.event_id).value_counts()"
      ]
    },
    {
      "cell_type": "markdown",
      "metadata": {
        "id": "Prmpuxo54rCR"
      },
      "source": [
        "*Com base na comparação de colunas, é possível notar que:*\n",
        "\n",
        "Se o intuito é facilitar a manipulação dos dados, devemos escolher um método que una as duas tabelas. Como ambos os IDs não estão presentes, em sua maioria, em ambas as tabelas, não seria válido usarmos `merge`, pois haveria perda de informações. No entanto, podemos usar o `concat`, já que temos as mesmas colunas e não teríamos perda de informações."
      ]
    },
    {
      "cell_type": "markdown",
      "metadata": {
        "id": "7ZVS2cns4rCR"
      },
      "source": [
        "### Manipulação dos dados"
      ]
    },
    {
      "cell_type": "markdown",
      "metadata": {
        "id": "RjCeEA0q4rCS"
      },
      "source": [
        "#### Concatenação de DataFrames"
      ]
    },
    {
      "cell_type": "code",
      "execution_count": null,
      "metadata": {
        "id": "QVlwp50a4rCT"
      },
      "outputs": [],
      "source": [
        "#Concatenando as bases\n",
        "df_concat = pd.concat([df1, df2]).reset_index(drop=True)"
      ]
    },
    {
      "cell_type": "code",
      "execution_count": null,
      "metadata": {
        "colab": {
          "base_uri": "https://localhost:8080/",
          "height": 293
        },
        "id": "qoAI50Gg4rCU",
        "outputId": "39374809-8c57-45a8-e86b-267527785edf"
      },
      "outputs": [],
      "source": [
        "# Verificando tabela\n",
        "df_concat.head()"
      ]
    },
    {
      "cell_type": "code",
      "execution_count": null,
      "metadata": {
        "colab": {
          "base_uri": "https://localhost:8080/"
        },
        "id": "MrRTfLrv4rCU",
        "outputId": "beb8bcc5-f811-4e63-c76a-15c9d43b9930"
      },
      "outputs": [],
      "source": [
        "df_concat.shape"
      ]
    },
    {
      "cell_type": "code",
      "execution_count": null,
      "metadata": {
        "id": "S0YVeZuW4rCY"
      },
      "outputs": [],
      "source": [
        "# Função para converter a string de metadados em um DataFrame com uma única linha\n",
        "def extract_metadata(metadata_str, device_id, event_id):\n",
        "  metadata_str = metadata_str.strip(\"()\").split(\", \")\n",
        "  metadata_dict = {}\n",
        "\n",
        "  for item in metadata_str:\n",
        "    key, value = item.split(\"=\")\n",
        "    metadata_dict[key] = ast.literal_eval(value)\n",
        "\n",
        "  metadata_dict['device_id_new'] = device_id\n",
        "  metadata_dict['event_id_new'] = event_id\n",
        "\n",
        "  return metadata_dict\n",
        "\n",
        "# Aplicar a função para extrair os metadados\n",
        "df_metadata = pd.DataFrame(df_concat.apply(lambda row: extract_metadata(row['metadata'], df_concat.loc[row.name, 'device_id'], df_concat.loc[row.name, 'event_id']), axis=1).to_list())"
      ]
    },
    {
      "cell_type": "code",
      "execution_count": null,
      "metadata": {
        "colab": {
          "base_uri": "https://localhost:8080/"
        },
        "id": "Cyn4Nvdh4rCY",
        "outputId": "9e13eeb5-6ea1-4c91-8a08-a0025bf76cc6"
      },
      "outputs": [],
      "source": [
        "# Conferindo tamanho\n",
        "df_metadata.shape"
      ]
    },
    {
      "cell_type": "code",
      "execution_count": null,
      "metadata": {
        "colab": {
          "base_uri": "https://localhost:8080/"
        },
        "id": "g5qJdwAE4rCZ",
        "outputId": "d56a38e6-9ac0-4cc5-e40d-d115a647ff47"
      },
      "outputs": [],
      "source": [
        "# Conferindo igualdade entre dados\n",
        "df_concat.device_id.isin(df_metadata.device_id_new).value_counts()"
      ]
    },
    {
      "cell_type": "code",
      "execution_count": null,
      "metadata": {
        "colab": {
          "base_uri": "https://localhost:8080/"
        },
        "id": "iAdtV5Xh4rCa",
        "outputId": "baffcbe9-ce79-467d-8541-ebb207f74d73"
      },
      "outputs": [],
      "source": [
        "# Conferindo igualdade entre dados\n",
        "df_concat.event_id.isin(df_metadata.event_id_new).value_counts()"
      ]
    },
    {
      "cell_type": "code",
      "execution_count": null,
      "metadata": {
        "id": "4TjOkz-g4rCb"
      },
      "outputs": [],
      "source": [
        "# Concatenar o DataFrame original com o metadata\n",
        "df_merge = pd.concat([df_concat, df_metadata], axis=1)"
      ]
    },
    {
      "cell_type": "code",
      "execution_count": null,
      "metadata": {
        "colab": {
          "base_uri": "https://localhost:8080/",
          "height": 516
        },
        "id": "CTvGT10t4rCc",
        "outputId": "303ba1fb-7a46-4f7f-e775-e51f06b79738"
      },
      "outputs": [],
      "source": [
        "df_merge.head()"
      ]
    },
    {
      "cell_type": "markdown",
      "metadata": {
        "id": "6ovHfbMa4rCV"
      },
      "source": [
        "#### Manipulação no tipo e padrão da data\n"
      ]
    },
    {
      "cell_type": "markdown",
      "metadata": {
        "id": "vui5cmdn4rCX"
      },
      "source": [
        "#### Extração dos dados usados na coluna `metadata`"
      ]
    },
    {
      "cell_type": "markdown",
      "metadata": {
        "id": "QnaBCEvC4rCV"
      },
      "source": [
        "Escolhi esse tipo de formatação, pois os segundos e milésimos não são levados em consideração nas análises. Logo, é mais fácil visualizar os dados no padrão: dd-mm-yyyy"
      ]
    },
    {
      "cell_type": "code",
      "execution_count": null,
      "metadata": {
        "id": "WTi6eXzkzJmA"
      },
      "outputs": [],
      "source": [
        "df_merge.visit_created_at = pd.to_datetime(df_merge.visit_created_at)\n",
        "\n",
        "df_merge['visit_created_at'] = df_merge['visit_created_at'].dt.strftime(\"%Y-%m-%d\")"
      ]
    },
    {
      "cell_type": "code",
      "execution_count": null,
      "metadata": {
        "colab": {
          "base_uri": "https://localhost:8080/",
          "height": 516
        },
        "id": "Mq-f9vkp1t-v",
        "outputId": "91bddd2a-4da8-446f-94b5-60785f23fc71"
      },
      "outputs": [],
      "source": [
        "df_merge.head()"
      ]
    },
    {
      "cell_type": "markdown",
      "metadata": {
        "id": "S2-OdeCJzai1"
      },
      "source": [
        "Adicionarei uma niva coluna apenas com mês e ano, para ser usada posteriormente."
      ]
    },
    {
      "cell_type": "code",
      "execution_count": null,
      "metadata": {
        "id": "qbFQ9FO54h1v"
      },
      "outputs": [],
      "source": [
        "df_merge['visit_created_at'] = pd.to_datetime(df_merge['visit_created_at'])\n",
        "\n",
        "# Formata a data como \"ano-mês\"\n",
        "df_merge['visit_created_at_month_year'] = df_merge['visit_created_at'].dt.strftime(\"%Y-%m\")"
      ]
    },
    {
      "cell_type": "code",
      "execution_count": null,
      "metadata": {
        "colab": {
          "base_uri": "https://localhost:8080/"
        },
        "id": "QXED7X6qZess",
        "outputId": "c5242eb6-7eb7-4470-817d-50f1805b49cd"
      },
      "outputs": [],
      "source": [
        "\n",
        "df_merge['visit_created_at_month_year'].unique()"
      ]
    },
    {
      "cell_type": "code",
      "execution_count": null,
      "metadata": {
        "colab": {
          "base_uri": "https://localhost:8080/",
          "height": 516
        },
        "id": "V6uRbUbMzoHe",
        "outputId": "c5c7ebe4-3242-4111-c445-fa24867a4730"
      },
      "outputs": [],
      "source": [
        "df_merge.head()"
      ]
    },
    {
      "cell_type": "markdown",
      "metadata": {
        "id": "9B5KJ4MI4rCd"
      },
      "source": [
        "#### Seleção de colunas a serem usadas no DataFrame"
      ]
    },
    {
      "cell_type": "markdown",
      "metadata": {
        "id": "Xfqi4C364rCd"
      },
      "source": [
        "A primeira análise que devemos fazer é a de dados nulos, pois apenas olhando por cima, é possível ver que muitas das colunas que acabaram de entrar na base, possuem diversos nulos"
      ]
    },
    {
      "cell_type": "code",
      "execution_count": null,
      "metadata": {
        "colab": {
          "base_uri": "https://localhost:8080/",
          "height": 1000
        },
        "id": "7Phe5vkq4rCe",
        "outputId": "f37abf04-9694-474d-fec2-ed76ddcc87de"
      },
      "outputs": [],
      "source": [
        "# Porcentagem de itens nulos\n",
        "pd.DataFrame((df_merge.isnull().sum()/df_merge.shape[0] * 100).round(2))"
      ]
    },
    {
      "cell_type": "markdown",
      "metadata": {
        "id": "HFByXppZ4rCf"
      },
      "source": [
        "A partir do observado, optei por excluir as colunas abaixo:\n",
        "\n",
        "- **`address`**:\n",
        "  - **Razão:** Retornava apenas a URL onde ocorreu o evento. Como já temos as tags dos assuntos, essa coluna tornou-se inutilizada\n",
        "\n",
        "- **`referer`**:\n",
        "  - **Razão:** Assinalazava de onde vinha o acesso e como nosso foco não é esse, optei por retirar\n",
        "\n",
        "- **`'fingerprint_components`**:\n",
        "  - **Razão:** Retornava apenas informações de fábrica do aparelho, não é algo que acrescentará nas análises\n",
        "\n",
        "- **`metadata`**:\n",
        "  - **Razão:** Já extraímos os dados necessários dela\n",
        "\n",
        "- **`device_id_new`**:\n",
        "  - **Razão:** Já está presente na base\n",
        "\n",
        "- **`event_id_new`**:\n",
        "  - **Razão:** Já está presente na base\n",
        "\n",
        "- **`author`**:\n",
        "  - **Razão:** Nào precisaremos do nome do autor para a análise\n",
        "  \n",
        "- **Extração por apresentar 100% de nulos:**\n",
        "  - **`amp_url, api_event, api_type, brand, categories, digital_access, facebook_uid, page_info_yy, signinwall, signinwall_loginstatus`**\n",
        "\n",
        "As demais colunas com mais de 50% de nulos não serão excluídas, pois serão necessárias para as análises"
      ]
    },
    {
      "cell_type": "code",
      "execution_count": null,
      "metadata": {
        "id": "RI9rke834rCg"
      },
      "outputs": [],
      "source": [
        "# Selecao de colunas relevantes para o que queremos:\n",
        "df = df_merge[['device_id', 'event_id', 'tag', 'visit_created_at', 'visit_created_at_month_year', 'user_gender', 'user_age_range',\n",
        "                'event', 'paywall_selected_plan', 'paywall_selected_plan_type',\n",
        "                'paywall_subscription_payment_type', 'paywall_subscription_product_id',\n",
        "                'paywall_subscription_product_name', 'paywall_subscription_status',\n",
        "                'screen', 'signinwall', 'signinwall_loginstatus']]"
      ]
    },
    {
      "cell_type": "code",
      "execution_count": null,
      "metadata": {
        "colab": {
          "base_uri": "https://localhost:8080/",
          "height": 226
        },
        "id": "lNCFbmmI4rCg",
        "outputId": "0c88b83f-05ea-40ac-c9b5-aff3094fb180"
      },
      "outputs": [],
      "source": [
        "df.head()"
      ]
    },
    {
      "cell_type": "code",
      "execution_count": null,
      "metadata": {
        "colab": {
          "base_uri": "https://localhost:8080/"
        },
        "id": "TFTxJwh04rCi",
        "outputId": "dea1b1c8-e1af-4221-c08f-7e0d4009c3f6"
      },
      "outputs": [],
      "source": [
        "# Visualizando o comportamento dos dados\n",
        "\n",
        "print(f'event: \\n{df.event.value_counts()}\\n')\n",
        "print(f'paywall_selected_plan: \\n{df.paywall_selected_plan.value_counts()}\\n')\n",
        "print(f'paywall_selected_plan_type: \\n{df.paywall_selected_plan_type.value_counts()}\\n')\n",
        "print(f'paywall_subscription_payment_type: \\n{df.paywall_subscription_payment_type.value_counts()}\\n')\n",
        "print(f'paywall_subscription_product_id: \\n{df.paywall_subscription_product_id.value_counts()}\\n')\n",
        "print(f'paywall_subscription_product_name: \\n{df.paywall_subscription_product_name.value_counts()}\\n')\n",
        "print(f\"paywall_subscription_status: \\n{df.paywall_subscription_status.value_counts()}\\n\")"
      ]
    },
    {
      "cell_type": "code",
      "execution_count": null,
      "metadata": {
        "colab": {
          "base_uri": "https://localhost:8080/"
        },
        "id": "ICWg-YJ94rCj",
        "outputId": "ba6590e6-3a13-44f7-b0ce-82589c3375a7"
      },
      "outputs": [],
      "source": [
        "print(f'screen: \\n{df.screen.value_counts()}\\n')\n",
        "print(f'signinwall: \\n{df.signinwall.value_counts()}\\n')\n",
        "print(f'signinwall_loginstatus: \\n{df.signinwall_loginstatus.value_counts()}\\n')"
      ]
    },
    {
      "cell_type": "markdown",
      "metadata": {
        "id": "aDFxNYzuGA1-"
      },
      "source": [
        "### Quantas assinaturas foram realizadas no período?\n",
        "\n",
        "Vamos assumir que para acharmos esse valor, devemos identificar aqueles usuários que possuem a feature `signinwall_loginstatus` com o valor `success`, representando a transação aprovada.\n",
        "\n",
        "Além disso, como dito no enunciado, a pipeline usada para a coluna metadata(atualmente destrinchada) pode repetir as linhas, mudando apenas a taga. Ou seja, um mesmo usuário pode acessar diferentes tags e gerar diferentes registros de logs. Pensando nisso, iremos remover as duplicatas"
      ]
    },
    {
      "cell_type": "code",
      "execution_count": null,
      "metadata": {
        "id": "FIdsV_SbMm5M"
      },
      "outputs": [],
      "source": [
        "# Preencher os dados nulos da coluna signinwall_loginstatus com 'connected'\n",
        "#df['signinwall_loginstatus'].fillna('connected', inplace=True)"
      ]
    },
    {
      "cell_type": "code",
      "execution_count": null,
      "metadata": {
        "id": "cK-LyFc-KsVs"
      },
      "outputs": [],
      "source": [
        "# Filtrando os dados apenas por status de conexão 'connected'\n",
        "#df = df[df.signinwall_loginstatus == 'connected']\n",
        "#df"
      ]
    },
    {
      "cell_type": "code",
      "execution_count": null,
      "metadata": {
        "colab": {
          "base_uri": "https://localhost:8080/"
        },
        "id": "u5Rw-hAGN6lf",
        "outputId": "232a1567-5f17-4590-d8e4-f5fe1cd3d80f"
      },
      "outputs": [],
      "source": [
        "df.columns"
      ]
    },
    {
      "cell_type": "code",
      "execution_count": null,
      "metadata": {
        "id": "XhihqKtYNtva"
      },
      "outputs": [],
      "source": [
        "# Filtro das colunas relacionadas à assinatura:\n",
        "df_assinaturas = df[['device_id', 'event_id', 'visit_created_at_month_year', 'paywall_subscription_status', 'signinwall']]"
      ]
    },
    {
      "cell_type": "code",
      "execution_count": null,
      "metadata": {
        "id": "57aeA71LOKWE"
      },
      "outputs": [],
      "source": [
        "df_assinaturas = df_assinaturas[df_assinaturas.paywall_subscription_status == 'success']\n",
        "df_assinaturas.drop_duplicates(inplace=True)"
      ]
    },
    {
      "cell_type": "code",
      "execution_count": null,
      "metadata": {
        "colab": {
          "base_uri": "https://localhost:8080/",
          "height": 654
        },
        "id": "Pw8PndEuREez",
        "outputId": "c7e637d7-239d-4b14-869d-427eebf3bea0"
      },
      "outputs": [],
      "source": [
        "# Agrupar por data e contar o número de aparecimentos\n",
        "grouped_data = df_assinaturas.groupby(df_assinaturas['visit_created_at_month_year']).size()\n",
        "\n",
        "plt.figure(figsize=(20, 6))\n",
        "sns.barplot(x=grouped_data.index, y=grouped_data.values, palette='Dark2')\n",
        "plt.xlabel('Mês - Ano')\n",
        "plt.ylabel('Contagem de Assinaturas')\n",
        "plt.title('Contagem de Assinaturas por Mês e Ano')\n",
        "plt.gca().spines[['top', 'right']].set_visible(False)\n",
        "plt.show()"
      ]
    },
    {
      "cell_type": "code",
      "execution_count": null,
      "metadata": {
        "colab": {
          "base_uri": "https://localhost:8080/"
        },
        "id": "yGvfTgAYuLJf",
        "outputId": "91355e0b-7443-4951-f989-58ae19a65cf7"
      },
      "outputs": [],
      "source": [
        "df_assinaturas.shape"
      ]
    },
    {
      "cell_type": "markdown",
      "metadata": {
        "id": "Uz2u9fKxUwH-"
      },
      "source": [
        "### 3 Quantos bloqueios foram realizados?\n",
        "\n",
        "Vamos assumir que para acharmos esse valor, devemos identificar aqueles usuários que possuem a feature `signinwall` com o valor `block`, representando o bloqueio do conteúdo.\n",
        "\n",
        "Além disso, como dito no enunciado, a pipeline usada para a coluna metadata(atualmente destrinchada) pode repetir as linhas, mudando apenas a taga. Ou seja, um mesmo usuário pode acessar diferentes tags e gerar diferentes registros de logs. Pensando nisso, iremos remover as duplicatas"
      ]
    },
    {
      "cell_type": "code",
      "execution_count": null,
      "metadata": {
        "id": "L20Y6K2MU2tn"
      },
      "outputs": [],
      "source": [
        "df_bloqueios = df[['device_id', 'event_id', 'visit_created_at_month_year', 'signinwall', 'signinwall_loginstatus']]"
      ]
    },
    {
      "cell_type": "code",
      "execution_count": null,
      "metadata": {
        "colab": {
          "base_uri": "https://localhost:8080/"
        },
        "id": "rq6295lbVI8b",
        "outputId": "fe68350f-0e4c-4201-9d1a-3d6c7ef845af"
      },
      "outputs": [],
      "source": [
        "df_bloqueios = df_bloqueios[df_bloqueios.signinwall == 'block']\n",
        "df_bloqueios.drop_duplicates(inplace=True)"
      ]
    },
    {
      "cell_type": "code",
      "execution_count": null,
      "metadata": {
        "colab": {
          "base_uri": "https://localhost:8080/"
        },
        "id": "2wIJVrwmumF9",
        "outputId": "eddf2165-ab7b-4cda-b93f-8fbc066a9597"
      },
      "outputs": [],
      "source": [
        "df_bloqueios.shape"
      ]
    },
    {
      "cell_type": "code",
      "execution_count": null,
      "metadata": {
        "colab": {
          "base_uri": "https://localhost:8080/",
          "height": 654
        },
        "id": "6rmnKXwAXkyY",
        "outputId": "0e938ec9-483d-421c-9969-caa100dd6937"
      },
      "outputs": [],
      "source": [
        "# Agrupar por data e contar o número de aparecimentos\n",
        "grouped_data = df_bloqueios.groupby(df_bloqueios['visit_created_at_month_year']).size()\n",
        "\n",
        "plt.figure(figsize=(20, 6))\n",
        "sns.barplot(x=grouped_data.index, y=grouped_data.values, palette='Dark2')\n",
        "plt.xlabel('Mês - Ano')\n",
        "plt.ylabel('Contagem de Bloqueios')\n",
        "plt.title('Contagem de Bloqueios por Mês e Ano')\n",
        "plt.gca().spines[['top', 'right']].set_visible(False)\n",
        "plt.show()"
      ]
    },
    {
      "cell_type": "code",
      "execution_count": null,
      "metadata": {
        "colab": {
          "base_uri": "https://localhost:8080/"
        },
        "id": "WNAg4yOu7Hrl",
        "outputId": "556c7795-7dff-4bab-d0e0-966e864e5715"
      },
      "outputs": [],
      "source": [
        "print(f'Quantidade total de bloqueios: {df_bloqueios.shape[0]}')"
      ]
    },
    {
      "cell_type": "markdown",
      "metadata": {
        "id": "jYrr_Wy8XrXb"
      },
      "source": [
        "### 3 Qual o tipo de conteúdo que mais converteu assinaturas?\n"
      ]
    },
    {
      "cell_type": "code",
      "execution_count": null,
      "metadata": {
        "id": "5OZsUfF3XuKW"
      },
      "outputs": [],
      "source": [
        "df_conversao_assinaturas = df[['device_id', 'event_id', 'tag', 'visit_created_at_month_year', 'paywall_subscription_status', 'signinwall']]"
      ]
    },
    {
      "cell_type": "code",
      "execution_count": null,
      "metadata": {
        "colab": {
          "base_uri": "https://localhost:8080/",
          "height": 206
        },
        "id": "WJiX-_MQX-I6",
        "outputId": "3f045678-5c17-4a67-a4d4-8a8d5f9a08d9"
      },
      "outputs": [],
      "source": [
        "df_conversao_assinaturas = df_conversao_assinaturas[df_conversao_assinaturas.paywall_subscription_status == 'success']\n",
        "df_conversao_assinaturas\n",
        "df_conversao_assinaturas.head()"
      ]
    },
    {
      "cell_type": "code",
      "execution_count": null,
      "metadata": {
        "colab": {
          "base_uri": "https://localhost:8080/"
        },
        "id": "OhLk7Q4NuckQ",
        "outputId": "f842d83d-e4f4-4c75-9478-e170c00502d4"
      },
      "outputs": [],
      "source": [
        "df_conversao_assinaturas.shape"
      ]
    },
    {
      "cell_type": "code",
      "execution_count": null,
      "metadata": {
        "colab": {
          "base_uri": "https://localhost:8080/",
          "height": 1000
        },
        "id": "NJkbhiBgYUgF",
        "outputId": "3a2ca0bd-ecb5-44a6-bdc6-40d88a3d69f7"
      },
      "outputs": [],
      "source": [
        "pd.DataFrame(df_conversao_assinaturas.groupby(\"paywall_subscription_status\")[\"tag\"].value_counts())"
      ]
    },
    {
      "cell_type": "code",
      "execution_count": null,
      "metadata": {
        "colab": {
          "base_uri": "https://localhost:8080/"
        },
        "id": "njXmww2CG4GP",
        "outputId": "9adad630-1b12-4978-c79e-b3328163d741"
      },
      "outputs": [],
      "source": [
        "print(f'Conteúdo que mais converteu assinaturas: covid 19 e economia')"
      ]
    },
    {
      "cell_type": "code",
      "execution_count": null,
      "metadata": {
        "colab": {
          "base_uri": "https://localhost:8080/",
          "height": 597
        },
        "id": "h4V0ssPd8B01",
        "outputId": "761a8ecd-1427-49d1-fa71-32619b745279"
      },
      "outputs": [],
      "source": [
        "df_conversao_assinaturas.groupby(\"paywall_subscription_status\")[\"tag\"].value_counts().head(5).plot(kind=\"bar\")\n",
        "plt.show()\n"
      ]
    },
    {
      "cell_type": "markdown",
      "metadata": {
        "id": "an3d76zQahnu"
      },
      "source": [
        "### 4 Que tipo de conteúdo gerou mais bloqueios?"
      ]
    },
    {
      "cell_type": "code",
      "execution_count": null,
      "metadata": {
        "colab": {
          "base_uri": "https://localhost:8080/",
          "height": 206
        },
        "id": "nK9kE6MWahVq",
        "outputId": "6524669d-d363-44bc-fb71-c80b3a0768e5"
      },
      "outputs": [],
      "source": [
        "df_conversao_bloqueios = df[['device_id', 'event_id', 'visit_created_at_month_year', 'tag', 'signinwall', 'signinwall_loginstatus']]\n",
        "df_conversao_bloqueios = df_conversao_bloqueios[df_conversao_bloqueios.signinwall == 'block']\n",
        "df_conversao_bloqueios.head()"
      ]
    },
    {
      "cell_type": "code",
      "execution_count": null,
      "metadata": {
        "colab": {
          "base_uri": "https://localhost:8080/",
          "height": 455
        },
        "id": "XcgBsjv9dIzZ",
        "outputId": "24f84f4e-8a0d-4ae4-f712-92406599140c"
      },
      "outputs": [],
      "source": [
        "pd.DataFrame(df_conversao_bloqueios.groupby(\"signinwall\")[\"tag\"].value_counts())"
      ]
    },
    {
      "cell_type": "code",
      "execution_count": null,
      "metadata": {
        "colab": {
          "base_uri": "https://localhost:8080/",
          "height": 590
        },
        "id": "Z57UDjBpHmdX",
        "outputId": "5fc410b8-57f5-4384-8f2c-39c5b929dbba"
      },
      "outputs": [],
      "source": [
        "df_conversao_bloqueios.groupby(\"signinwall\")[\"tag\"].value_counts().head(5).plot(kind=\"bar\")\n",
        "plt.show()"
      ]
    },
    {
      "cell_type": "markdown",
      "metadata": {
        "id": "JPhSjbETFAZT"
      },
      "source": [
        "Podemos concluir que o conteúdo relacionado a `Pernambuco` teve o maior destaque dentro os outros. Sabendo que a empresa atual principalmente em Recife e Pernambuco, devido às suas sedes, esse resultado faz bastante sentido"
      ]
    },
    {
      "cell_type": "markdown",
      "metadata": {
        "id": "x2rHBCccdpcZ"
      },
      "source": [
        "### 5 Qual a taxa de conversão?\n",
        "\n",
        "Para a taxa de criação iremos dividir em duas:\n",
        "1. taxa de conversão total, considerando a taxa de todos os 3 meses\n",
        "2. taxa de conversão mensal, considerando a taxa de cada mês\n",
        "\n",
        "Para montar a equação, filtrei o dataset pelos usuários que aderiram à compra do plano. Em seguida, calculei o tamanho do dataset filtrado e dividi pelo tamanho total do mesmo"
      ]
    },
    {
      "cell_type": "code",
      "execution_count": null,
      "metadata": {
        "colab": {
          "base_uri": "https://localhost:8080/"
        },
        "id": "LJ41YZsKfmwo",
        "outputId": "2f1db232-7577-40c4-c7bb-fb1693285eb2"
      },
      "outputs": [],
      "source": [
        "#TAXA DE CONVERSAO TOTAL\n",
        "\n",
        "# Filtro\n",
        "df_taxa_conversao = df[df[\"paywall_subscription_status\"] == \"success\"]\n",
        "\n",
        "# Cálculo da taxa\n",
        "taxa = (len(df_taxa_conversao) / len(df)) * 100\n",
        "\n",
        "print(f\"Taxa de conversao total: {taxa}%\")"
      ]
    },
    {
      "cell_type": "code",
      "execution_count": null,
      "metadata": {
        "colab": {
          "base_uri": "https://localhost:8080/"
        },
        "id": "f3_JluNriIKI",
        "outputId": "55c62deb-0fc4-466d-e1b8-f23a3d7c7ab0"
      },
      "outputs": [],
      "source": [
        "#TAXA DE CONVERSAO MENSAL\n",
        "\n",
        "# Filtro\n",
        "df_taxa_conversao_mes = df[df[\"paywall_subscription_status\"] == \"success\"]\n",
        "\n",
        "# Cálculo da taxa\n",
        "taxa_mensal = df_taxa_conversao_mes.groupby(df_taxa_conversao_mes[\"visit_created_at_month_year\"].dt.month)[\"device_id\"].count()\n",
        "quantidade_usuarios = df.groupby(df[\"visit_created_at_month_year\"].dt.month)[\"device_id\"].nunique()\n",
        "\n",
        "taxa_conversao_mes = taxa_mensal / quantidade_usuarios * 100\n",
        "\n",
        "# Resultado\n",
        "print(\"Taxa de conversão por mês:\")\n",
        "for mes, taxa_conversao_mes in taxa_conversao_mes.items():\n",
        "  print(f\"- Mês {mes}: {taxa_conversao_mes:.2f}%\")"
      ]
    },
    {
      "cell_type": "code",
      "execution_count": null,
      "metadata": {
        "id": "3yZDzJKt-KEx"
      },
      "outputs": [],
      "source": [
        "# linhas"
      ]
    },
    {
      "cell_type": "markdown",
      "metadata": {
        "id": "gY2iFCspioHH"
      },
      "source": [
        "### 6 Qual o perfil de quem leu? Existe uma diferença de perfil entre leitores normais e assinantes?"
      ]
    },
    {
      "cell_type": "code",
      "execution_count": null,
      "metadata": {
        "id": "Fx7e8jkXASSn"
      },
      "outputs": [],
      "source": [
        "# Divisão entre os tipos de perfis\n",
        "inscritos = df[df['paywall_subscription_status'] == 'success']\n",
        "nao_inscritos = df[df['paywall_subscription_status'] != 'success']\n"
      ]
    },
    {
      "cell_type": "code",
      "execution_count": null,
      "metadata": {
        "colab": {
          "base_uri": "https://localhost:8080/"
        },
        "id": "hZ87sqtuAet-",
        "outputId": "5e4a7f21-cdfe-414c-da23-d6a4bcb96e16"
      },
      "outputs": [],
      "source": [
        "# Comparativo\n",
        "print(\"Comparativo entre inscritos e suas idades:\")\n",
        "print(pd.crosstab(inscritos['user_gender'], inscritos['user_age_range']))\n",
        "\n",
        "print(\"Comparativo entre não inscritos e suas idades:\")\n",
        "print(pd.crosstab(nao_inscritos['user_gender'], nao_inscritos['user_age_range']))\n"
      ]
    },
    {
      "cell_type": "markdown",
      "metadata": {
        "id": "4yfsM8DwBizR"
      },
      "source": [
        "É possível ver que há uma grande diferente de público ao analisarmos os perfis dos leitores. Repare:\n",
        "\n",
        "1. Para leitores assinantes, todos são homens e a maioria se encontra na faixa dos 35 - 110 anos\n",
        "2. Para leitores não assinantes, a maioria ainda é homem, mas a quantidade de mulheres é mais expressiva que antes.\n",
        "3. A maior quantidade de homens e de mulheres está na faixa dos 35 - 110 anos\n"
      ]
    },
    {
      "cell_type": "markdown",
      "metadata": {
        "id": "Qb06yw8_irMC"
      },
      "source": [
        "### 7 Quantos bloqueios, em média, um usuário leva antes de realizar uma assinatura?"
      ]
    },
    {
      "cell_type": "code",
      "execution_count": null,
      "metadata": {
        "colab": {
          "base_uri": "https://localhost:8080/"
        },
        "id": "uHoivCLwiuiC",
        "outputId": "5bcb0918-c07b-4424-a3cf-b188fa0303f8"
      },
      "outputs": [],
      "source": [
        "# Criar dicionário para armazenar bloqueios por usuário\n",
        "user_blocks = {}\n",
        "for i in range(df.shape[0]):\n",
        "  row = df.iloc[i]\n",
        "  device_id = row['device_id']\n",
        "  event = row['event']\n",
        "  signinwall = row['signinwall']\n",
        "\n",
        "  # Avalia se há um bloqueio. Caso sim, soma uma unidade ao contador\n",
        "  if event == 'signinwall' and signinwall == 'block':\n",
        "    if device_id not in user_blocks:\n",
        "      user_blocks[device_id] = 0\n",
        "    user_blocks[device_id] += 1\n",
        "\n",
        "# Calcular número médio de bloqueios\n",
        "average_blocks = np.mean(list(user_blocks.values()))\n",
        "\n",
        "print(f\"Número médio de bloqueios antes da assinatura: {average_blocks:.2f}\")\n"
      ]
    },
    {
      "cell_type": "markdown",
      "metadata": {
        "id": "adye7yu1Cxq_"
      },
      "source": [
        "Podemos dizer que, em média, um usuário precisa levar em torno de 4~5 blocks para realizar uma assinatura"
      ]
    }
  ],
  "metadata": {
    "colab": {
      "provenance": []
    },
    "kernelspec": {
      "display_name": "Python 3",
      "language": "python",
      "name": "python3"
    },
    "language_info": {
      "codemirror_mode": {
        "name": "ipython",
        "version": 3
      },
      "file_extension": ".py",
      "mimetype": "text/x-python",
      "name": "python",
      "nbconvert_exporter": "python",
      "pygments_lexer": "ipython3",
      "version": "3.9.4"
    }
  },
  "nbformat": 4,
  "nbformat_minor": 0
}
